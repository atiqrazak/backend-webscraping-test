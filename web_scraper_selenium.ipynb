{
 "cells": [
  {
   "cell_type": "code",
   "execution_count": 11,
   "id": "ee8008f3",
   "metadata": {},
   "outputs": [],
   "source": [
    "from selenium import webdriver\n",
    "from selenium.webdriver.common.by import By\n",
    "from selenium.webdriver.chrome.service import Service\n",
    "from selenium.webdriver.common.keys import Keys\n",
    "import time\n",
    "import json\n"
   ]
  },
  {
   "cell_type": "code",
   "execution_count": 12,
   "id": "e56027aa",
   "metadata": {},
   "outputs": [],
   "source": [
    "service = Service(r\"C:\\Users\\WINDOWS-10\\Downloads\\chromedriver-win64\\chromedriver-win64\\chromedriver.exe\")  # path to your ChromeDriver\n",
    "driver = webdriver.Chrome(service=service)\n"
   ]
  },
  {
   "cell_type": "code",
   "execution_count": 13,
   "id": "452563f6",
   "metadata": {},
   "outputs": [],
   "source": [
    "url = \"https://www.reddit.com/r/malaysia/\"\n",
    "driver.get(url)\n",
    "time.sleep(3)   # wait for page to load fully\n"
   ]
  },
  {
   "cell_type": "code",
   "execution_count": 14,
   "id": "48d57684",
   "metadata": {},
   "outputs": [],
   "source": [
    "for i in range(10):  # simulate 10 scrolls (like 10 pages)\n",
    "    driver.find_element(By.TAG_NAME, \"body\").send_keys(Keys.END)\n",
    "    time.sleep(2)  # wait for new content\n"
   ]
  },
  {
   "cell_type": "code",
   "execution_count": 15,
   "id": "dcf4ae00",
   "metadata": {},
   "outputs": [],
   "source": [
    "results = []\n",
    "images = driver.find_elements(By.TAG_NAME, \"img\")\n",
    "\n",
    "for img in images:\n",
    "    title = img.get_attribute(\"alt\")\n",
    "    image_url = img.get_attribute(\"src\")\n",
    "    if (title and image_url \n",
    "        and \"emoji\" not in image_url \n",
    "        and \"icon\" not in image_url\n",
    "        and \"avatar\" not in image_url\n",
    "        and \"communityIcon\" not in image_url\n",
    "        and \"profileIcon\" not in image_url  # filter out non-post images\n",
    "        and not image_url.endswith(\".svg\")  # skip svg icons\n",
    "    ):\n",
    "        results.append({\"post_title\": title, \"image_url\": image_url})\n"
   ]
  },
  {
   "cell_type": "code",
   "execution_count": 16,
   "id": "b09ea959",
   "metadata": {},
   "outputs": [
    {
     "name": "stdout",
     "output_type": "stream",
     "text": [
      "Collected 44 posts\n",
      "[{'post_title': 'r/malaysia - Penerangan BUDI95', 'image_url': 'https://preview.redd.it/penerangan-budi95-v0-u15v4cra7qqf1.jpg?width=640&crop=smart&auto=webp&s=60a01081cea80948cd6ce1802ad89382d0ef63f4'}, {'post_title': 'r/malaysia - Penerangan BUDI95', 'image_url': 'https://preview.redd.it/penerangan-budi95-v0-9o2f57kb7qqf1.jpg?width=640&crop=smart&auto=webp&s=9b594798a1f769fec475d984f2a1fc590d7ae589'}, {'post_title': 'r/malaysia - Penerangan BUDI95', 'image_url': 'https://preview.redd.it/penerangan-budi95-v0-yzdf9xia7qqf1.jpg?width=640&crop=smart&auto=webp&s=e91e5882a37ffb988dafd7c4af3bfcf49f44f37a'}, {'post_title': 'r/malaysia - Penerangan BUDI95', 'image_url': 'https://preview.redd.it/penerangan-budi95-v0-pjv5zfva7qqf1.jpg?width=640&crop=smart&auto=webp&s=a3ba3fde4d7f2245c61b10d1dc4c9400827987c4'}, {'post_title': 'r/malaysia - [VIDEO] MBMB Shuts Down Melaka Café After TikTok of \"Lonely Alpaca\" Goes Viral', 'image_url': 'https://external-preview.redd.it/ESKisS63HlJqOf3fa_o2CW23ncNveSt9Vgi6oGH2BaE.jpeg?width=140&height=73&crop=140%3A73%2Csmart&auto=webp&s=10e9fbec3c7e524863bfd8b582f33ea46beedd7e'}]\n"
     ]
    }
   ],
   "source": [
    "print(f\"Collected {len(results)} posts\")\n",
    "print(results[:5]) "
   ]
  },
  {
   "cell_type": "code",
   "execution_count": 17,
   "id": "91be7523",
   "metadata": {},
   "outputs": [],
   "source": [
    "with open(\"reddit_posts.json\", \"w\", encoding=\"utf-8\") as f:\n",
    "    json.dump(results, f, indent=4, ensure_ascii=False)\n"
   ]
  },
  {
   "cell_type": "code",
   "execution_count": 18,
   "id": "2933c1af",
   "metadata": {},
   "outputs": [],
   "source": [
    "driver.quit()\n"
   ]
  }
 ],
 "metadata": {
  "kernelspec": {
   "display_name": "Python 3",
   "language": "python",
   "name": "python3"
  },
  "language_info": {
   "codemirror_mode": {
    "name": "ipython",
    "version": 3
   },
   "file_extension": ".py",
   "mimetype": "text/x-python",
   "name": "python",
   "nbconvert_exporter": "python",
   "pygments_lexer": "ipython3",
   "version": "3.13.7"
  }
 },
 "nbformat": 4,
 "nbformat_minor": 5
}
